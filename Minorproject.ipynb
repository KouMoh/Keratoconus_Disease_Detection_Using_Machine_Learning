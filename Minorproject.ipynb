{
 "cells": [
  {
   "cell_type": "code",
   "execution_count": 36,
   "id": "2fc8ac86-f93c-4b0b-9c0d-ba25207af29d",
   "metadata": {},
   "outputs": [],
   "source": [
    "import pandas as pd\n",
    "import numpy as np\n",
    "from sklearn.model_selection import train_test_split\n",
    "from sklearn.preprocessing import LabelEncoder, StandardScaler\n",
    "from sklearn.neural_network import MLPClassifier\n",
    "from sklearn.metrics import accuracy_score"
   ]
  },
  {
   "cell_type": "code",
   "execution_count": 28,
   "id": "d3c95c6a",
   "metadata": {},
   "outputs": [],
   "source": [
    "# Load CSV file\n",
    "file_path = \"data.csv\"  # Ensure the file is in the working directory\n",
    "df = pd.read_csv(file_path)"
   ]
  },
  {
   "cell_type": "code",
   "execution_count": 29,
   "id": "540ecbe2",
   "metadata": {},
   "outputs": [
    {
     "name": "stdout",
     "output_type": "stream",
     "text": [
      "<class 'pandas.core.frame.DataFrame'>\n",
      "RangeIndex: 3162 entries, 0 to 3161\n",
      "Columns: 448 entries, Unnamed: 0 to ESI.Posterior.\n",
      "dtypes: float64(319), int64(127), object(2)\n",
      "memory usage: 10.8+ MB\n",
      "None\n",
      "   Unnamed: 0       idEye     Ks  Ks.Axis     Kf  Kf.Axis   AvgK   CYL    AA  \\\n",
      "0           9   1OS(Left)  44.53       21  39.22      111  41.87  5.32  86.7   \n",
      "1          10  1OD(Right)  43.84       39  42.46      129  43.15  1.38  88.2   \n",
      "2          39  2OD(Right)  44.81       66  44.41      156  44.61  0.40  83.0   \n",
      "3          55   4OS(Left)  44.00       51  42.31      141  43.15  1.69  97.3   \n",
      "4          56  4OD(Right)  45.42       26  45.20      116  45.31  0.22  93.3   \n",
      "\n",
      "   Ecc.9.0mm.  ...  coma.5  coma.axis.5  SA.C40..5  S35.coma.like..5  \\\n",
      "0        0.91  ...   3.131           97     -0.722             3.350   \n",
      "1        0.65  ...   0.575           97      0.085             0.921   \n",
      "2        0.48  ...   0.177            9      0.268             0.263   \n",
      "3        0.60  ...   0.492          275     -0.281             3.396   \n",
      "4        0.69  ...   0.571           85      0.109             0.691   \n",
      "\n",
      "   S46.sph..like..5  HOAs.S3456..5  AA.5  En.Anterior.  ESI.Anterior.  \\\n",
      "0             1.053          3.512    99        Enable             45   \n",
      "1             0.290          0.966   100        Enable              0   \n",
      "2             0.640          0.692   100        Enable              0   \n",
      "3             1.419          3.680   100        Enable              0   \n",
      "4             0.181          0.714   100        Enable              0   \n",
      "\n",
      "   ESI.Posterior.  \n",
      "0              27  \n",
      "1               0  \n",
      "2               0  \n",
      "3              29  \n",
      "4               7  \n",
      "\n",
      "[5 rows x 448 columns]\n"
     ]
    }
   ],
   "source": [
    "\n",
    "# Display basic information\n",
    "print(df.info())  # Check column names and data types\n",
    "print(df.head())  # Preview the first few rows\n"
   ]
  },
  {
   "cell_type": "code",
   "execution_count": 30,
   "id": "4d885db1",
   "metadata": {},
   "outputs": [],
   "source": [
    "# Convert categorical columns to numeric using Label Encoding\n",
    "for col in df.select_dtypes(include=['object']).columns:\n",
    "    df[col] = LabelEncoder().fit_transform(df[col])"
   ]
  },
  {
   "cell_type": "code",
   "execution_count": 17,
   "id": "3e4a38b7",
   "metadata": {},
   "outputs": [],
   "source": [
    "# Drop unnecessary columns (like 'Unnamed: 0' and non-numeric identifiers)\n",
    "df.drop(columns=['Unnamed: 0', 'idEye'], errors='ignore', inplace=True)\n"
   ]
  },
  {
   "cell_type": "code",
   "execution_count": 18,
   "id": "3666ea17",
   "metadata": {},
   "outputs": [],
   "source": [
    "# Define features and target\n",
    "X = df.drop(columns=['ESI.Posterior.'])  # Features\n",
    "y = df['ESI.Posterior.']  # Target variable"
   ]
  },
  {
   "cell_type": "code",
   "execution_count": 31,
   "id": "68a75099",
   "metadata": {},
   "outputs": [],
   "source": [
    "# Define features and target\n",
    "X = df.drop(columns=['ESI.Posterior.'])  # Features\n",
    "y = df['ESI.Posterior.']  # Target variable"
   ]
  },
  {
   "cell_type": "code",
   "execution_count": 32,
   "id": "2d0f0b64",
   "metadata": {},
   "outputs": [],
   "source": [
    "# Split dataset into training and testing sets (80% train, 20% test)\n",
    "X_train, X_test, y_train, y_test = train_test_split(X, y, test_size=0.2, random_state=42)"
   ]
  },
  {
   "cell_type": "code",
   "execution_count": 33,
   "id": "a884e161",
   "metadata": {},
   "outputs": [],
   "source": [
    "# Normalize features for better performance\n",
    "scaler = StandardScaler()\n",
    "X_train = scaler.fit_transform(X_train)\n",
    "X_test = scaler.transform(X_test)"
   ]
  },
  {
   "cell_type": "code",
   "execution_count": 37,
   "id": "cba1896f-1bbc-496a-bb22-87d012f7054f",
   "metadata": {},
   "outputs": [
    {
     "name": "stdout",
     "output_type": "stream",
     "text": [
      "Accuracy of the model: 0.684044233807267\n"
     ]
    }
   ],
   "source": [
    "\n",
    "model = MLPClassifier(hidden_layer_sizes=(64, 32), max_iter=500, random_state=42)\n",
    "model.fit(X_train, y_train)\n",
    "y_pred = model.predict(X_test)\n",
    "accuracy = accuracy_score(y_test, y_pred)\n",
    "print(f\"Accuracy of the model: {accuracy}\")"
   ]
  },
  {
   "cell_type": "code",
   "execution_count": null,
   "id": "cd7663fa-4140-4df7-bed7-7a76c9b7481f",
   "metadata": {},
   "outputs": [],
   "source": []
  }
 ],
 "metadata": {
  "kernelspec": {
   "display_name": "Python 3",
   "language": "python",
   "name": "python3"
  },
  "language_info": {
   "codemirror_mode": {
    "name": "ipython",
    "version": 3
   },
   "file_extension": ".py",
   "mimetype": "text/x-python",
   "name": "python",
   "nbconvert_exporter": "python",
   "pygments_lexer": "ipython3",
   "version": "3.11.9"
  }
 },
 "nbformat": 4,
 "nbformat_minor": 5
}
